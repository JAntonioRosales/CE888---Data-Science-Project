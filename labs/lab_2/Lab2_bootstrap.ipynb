{
  "nbformat": 4,
  "nbformat_minor": 0,
  "metadata": {
    "colab": {
      "name": "Lab2_bootstrap.ipynb",
      "provenance": [],
      "collapsed_sections": [],
      "include_colab_link": true
    },
    "kernelspec": {
      "display_name": "Python 3",
      "language": "python",
      "name": "python3"
    },
    "language_info": {
      "codemirror_mode": {
        "name": "ipython",
        "version": 3
      },
      "file_extension": ".py",
      "mimetype": "text/x-python",
      "name": "python",
      "nbconvert_exporter": "python",
      "pygments_lexer": "ipython3",
      "version": "3.7.6"
    },
    "pycharm": {
      "stem_cell": {
        "cell_type": "raw",
        "metadata": {
          "collapsed": false
        },
        "source": []
      }
    }
  },
  "cells": [
    {
      "cell_type": "markdown",
      "metadata": {
        "id": "view-in-github",
        "colab_type": "text"
      },
      "source": [
        "<a href=\"https://colab.research.google.com/github/JAntonioRosales/CE888-Data-Science/blob/main/labs/lab_2/Lab2_bootstrap.ipynb\" target=\"_parent\"><img src=\"https://colab.research.google.com/assets/colab-badge.svg\" alt=\"Open In Colab\"/></a>"
      ]
    },
    {
      "cell_type": "markdown",
      "metadata": {
        "id": "nCi_99yMYIb1"
      },
      "source": [
        "In this notebook you'll create your own bootstrap function following the bootstrap algorithm (check the lecture notes!)"
      ]
    },
    {
      "cell_type": "code",
      "metadata": {
        "id": "LY5zujI2YC37",
        "pycharm": {
          "name": "#%%# Imports\n"
        }
      },
      "source": [
        "import matplotlib\n",
        "import pandas as pd\n",
        "import seaborn as sns\n",
        "import numpy as np"
      ],
      "execution_count": 1,
      "outputs": []
    },
    {
      "cell_type": "code",
      "metadata": {
        "id": "Eqkwj4SMY38t",
        "colab": {
          "base_uri": "https://localhost:8080/"
        },
        "outputId": "9e1fcfbb-f8bf-42ff-9329-f732908b8d11"
      },
      "source": [
        "# Load the data\n",
        "df = pd.read_csv('https://raw.githubusercontent.com/albanda/CE888/master/lab2%20-%20bootstrap/customers.csv')\n",
        "data = df.values.T[1]\n",
        "# pandas.DataFrame.values --> Return a Numpy representation of the DataFrame. At https://pandas.pydata.org/docs/reference/api/pandas.DataFrame.values.html\n",
        "# pandas.DataFrame.T --> Reflect the DataFrame over its main diagonal by writing rows as columns and vice-versa. At https://pandas.pydata.org/pandas-docs/version/0.25.0/reference/api/pandas.DataFrame.T.html\n",
        "# you can print out data or df to see what's going on\n",
        "data"
      ],
      "execution_count": 2,
      "outputs": [
        {
          "output_type": "execute_result",
          "data": {
            "text/plain": [
              "array([ 2.,  8., 20., 13.,  5.,  9., 10.,  8., 22., 10.,  2.,  4.,  7.,\n",
              "        9.])"
            ]
          },
          "metadata": {},
          "execution_count": 2
        }
      ]
    },
    {
      "cell_type": "code",
      "metadata": {
        "id": "Gxvc_bScYC4H",
        "pycharm": {
          "name": "#%%\n"
        }
      },
      "source": [
        "# Checking the notes from the lecture, create here your own bootstrap function:\n",
        "# 1. Sample from the input array x to create an array of samples of shape (n_bootstraps, sample_size)\n",
        "# Hint: Check the function random.choice() on Numpy\n",
        "# 2. Calculate and save the mean of the array (this is \"data_mean\" that is returned by the function)\n",
        "# 3. Calculate the mean from each bootstrap (i.e., row) and store it.\n",
        "# (This should be an array of n_bootstraps values)\n",
        "# 4. Calculate the lower and upper bounds for a 95% CI (hint: check the percentile function on Numpy)\n",
        "# 5. Return data_mean, and the lower and upper bounds of your interval\n",
        "def bootstrap_mean(x, sample_size, n_bootstraps):\n",
        "\tboot_array = np.random.choice(x, size=(n_bootstraps, sample_size), replace=True) # array of random samples with replacement from data\n",
        "\tdata_mean = np.mean(boot_array) # mean of all of the bootstraps\n",
        "\tboot_means = [] # list for the mean of each bootstrap\n",
        "\tfor row in range(boot_array.shape[0]):\n",
        "\t\tboot_mean = np.mean(boot_array[row,:]) # mean for each bootstrap (row)\n",
        "\t\tboot_means.append(boot_mean)\n",
        "\tupper = np.percentile(boot_means, 97.5)\n",
        "\tlower = np.percentile(boot_means, 2.5)\n",
        "\treturn data_mean, lower, upper"
      ],
      "execution_count": 3,
      "outputs": []
    },
    {
      "cell_type": "code",
      "metadata": {
        "id": "AN7sEOcMYC4P",
        "pycharm": {
          "name": "#%%\n"
        },
        "colab": {
          "base_uri": "https://localhost:8080/",
          "height": 441
        },
        "outputId": "79746efc-a2be-48d3-9aac-f4f99fb675ae"
      },
      "source": [
        "# Call your bootstrap function and plot the results\n",
        "\n",
        "boots = []\n",
        "for i in range(100, 50000, 1000): # range(start, stop, step)\n",
        "    boot = bootstrap_mean(data, data.shape[0], i)\n",
        "    boots.append([i, boot[0], \"mean\"])\n",
        "    boots.append([i, boot[1], \"lower\"])\n",
        "    boots.append([i, boot[2], \"upper\"])\n",
        "\n",
        "df_boot = pd.DataFrame(boots, columns=['Bootstrap Iterations', 'Mean', \"Value\"])\n",
        "#df_boot\n",
        "\n",
        "sns_plot = sns.lmplot(df_boot.columns[0], df_boot.columns[1], data=df_boot, fit_reg=False, hue=\"Value\")\n",
        "\n",
        "sns_plot.axes[0, 0].set_ylim(0,)\n",
        "sns_plot.axes[0, 0].set_xlim(0, 50000)"
      ],
      "execution_count": 4,
      "outputs": [
        {
          "output_type": "stream",
          "name": "stderr",
          "text": [
            "/usr/local/lib/python3.7/dist-packages/seaborn/_decorators.py:43: FutureWarning: Pass the following variables as keyword args: x, y. From version 0.12, the only valid positional argument will be `data`, and passing other arguments without an explicit keyword will result in an error or misinterpretation.\n",
            "  FutureWarning\n"
          ]
        },
        {
          "output_type": "execute_result",
          "data": {
            "text/plain": [
              "(0.0, 50000.0)"
            ]
          },
          "metadata": {},
          "execution_count": 4
        },
        {
          "output_type": "display_data",
          "data": {
            "image/png": "[encoded data removed]",
            "text/plain": [
              "<Figure size 425.125x360 with 1 Axes>"
            ]
          },
          "metadata": {
            "needs_background": "light"
          }
        }
      ]
    },
    {
      "cell_type": "markdown",
      "metadata": {
        "id": "MjtP4e2_YC4V"
      },
      "source": [
        "\n",
        "Now, modify the bootstrap function you created above so that you can pass your desired confidence interval as a parameter.\n",
        "\n"
      ]
    },
    {
      "cell_type": "code",
      "metadata": {
        "id": "3K9j0FuGYhHs"
      },
      "source": [
        "def bootstrap_mean_ci(sample, sample_size, n_bootstraps, ci):\n",
        "\tboot_array = np.random.choice(sample, size=(n_bootstraps, sample_size), replace=True) # array of random samples with replacement from data\n",
        "\tdata_mean = np.mean(boot_array) # mean of all of the bootstraps\n",
        "\tboot_means = [] # list for the mean of each bootstrap\n",
        "\tfor row in range(boot_array.shape[0]):\n",
        "\t\tboot_mean = np.mean(boot_array[row,:]) # mean for each bootstrap (row)\n",
        "\t\tboot_means.append(boot_mean)\n",
        "\tupper = np.percentile(boot_means, 100-((100-ci)/2))\n",
        "\tlower = np.percentile(boot_means, (100-ci)/2)\n",
        "\treturn data_mean, lower, upper"
      ],
      "execution_count": 5,
      "outputs": []
    },
    {
      "cell_type": "code",
      "metadata": {
        "id": "uDnjq08GYl-C",
        "colab": {
          "base_uri": "https://localhost:8080/",
          "height": 441
        },
        "outputId": "fd9be082-0042-42e1-ad45-f8d8fd4d7cfd"
      },
      "source": [
        "boots = []\n",
        "for i in range(100, 50000, 1000):\n",
        "    boot = bootstrap_mean_ci(data, data.shape[0], i, 80)\n",
        "    boots.append([i, boot[0], \"mean\"])\n",
        "    boots.append([i, boot[1], \"lower\"])\n",
        "    boots.append([i, boot[2], \"upper\"])\n",
        "\n",
        "df_boot = pd.DataFrame(boots, columns=['Boostrap Iterations', 'Mean', \"Value\"])\n",
        "sns_plot = sns.lmplot(df_boot.columns[0], df_boot.columns[1], data=df_boot, fit_reg=False, hue=\"Value\")\n",
        "\n",
        "sns_plot.axes[0, 0].set_ylim(0,)\n",
        "sns_plot.axes[0, 0].set_xlim(0, 50000)\n",
        "\n",
        "#sns_plot.savefig(\"bootstrap_confidence_80.pdf\", bbox_inches='tight')"
      ],
      "execution_count": 6,
      "outputs": [
        {
          "output_type": "stream",
          "name": "stderr",
          "text": [
            "/usr/local/lib/python3.7/dist-packages/seaborn/_decorators.py:43: FutureWarning: Pass the following variables as keyword args: x, y. From version 0.12, the only valid positional argument will be `data`, and passing other arguments without an explicit keyword will result in an error or misinterpretation.\n",
            "  FutureWarning\n"
          ]
        },
        {
          "output_type": "execute_result",
          "data": {
            "text/plain": [
              "(0.0, 50000.0)"
            ]
          },
          "metadata": {},
          "execution_count": 6
        },
        {
          "output_type": "display_data",
          "data": {
            "image/png": "[encoded data removed]",
            "text/plain": [
              "<Figure size 425.125x360 with 1 Axes>"
            ]
          },
          "metadata": {
            "needs_background": "light"
          }
        }
      ]
    },
    {
      "cell_type": "markdown",
      "metadata": {
        "id": "qjNgXW6wdd7r"
      },
      "source": [
        "# Vehicles dataset\n",
        "\n",
        "Now let's work on a different dataset, which is stored in the vehicles.csv file.\n"
      ]
    },
    {
      "cell_type": "code",
      "metadata": {
        "id": "avWv4ipFdpka",
        "colab": {
          "base_uri": "https://localhost:8080/",
          "height": 423
        },
        "outputId": "6db1c86c-f190-484a-9df0-5363602e4611"
      },
      "source": [
        "# Load and visualise the vehicles dataset\n",
        "# To load the dataset: https://neptune.ai/blog/google-colab-dealing-with-files (check section \"Load individual files directly from GitHub\")\n",
        "df = pd.read_csv('https://raw.githubusercontent.com/albanda/CE888/master/lab2%20-%20bootstrap/vehicles.csv')\n",
        "df\n",
        "\n",
        "# Note that the current and new fleets are in different columns and have different lengths, so bear this in mind when you're plotting.\n",
        "# You can create separate scatterplots for the two fleets, as you would with the histograms, \n",
        "# or plot them both in one plot (but not one against the other).\n",
        "# <---INSERT YOUR CODE HERE--->\n",
        "# Note: you can add more cells as needed to organise your code and your plots\n"
      ],
      "execution_count": 10,
      "outputs": [
        {
          "output_type": "execute_result",
          "data": {
            "text/html": [
              "\n",
              "  <div id=\"df-594b3cd3-16e7-411a-801f-8a2dc4a0759b\">\n",
              "    <div class=\"colab-df-container\">\n",
              "      <div>\n",
              "<style scoped>\n",
              "    .dataframe tbody tr th:only-of-type {\n",
              "        vertical-align: middle;\n",
              "    }\n",
              "\n",
              "    .dataframe tbody tr th {\n",
              "        vertical-align: top;\n",
              "    }\n",
              "\n",
              "    .dataframe thead th {\n",
              "        text-align: right;\n",
              "    }\n",
              "</style>\n",
              "<table border=\"1\" class=\"dataframe\">\n",
              "  <thead>\n",
              "    <tr style=\"text-align: right;\">\n",
              "      <th></th>\n",
              "      <th>Current fleet</th>\n",
              "      <th>New Fleet</th>\n",
              "    </tr>\n",
              "  </thead>\n",
              "  <tbody>\n",
              "    <tr>\n",
              "      <th>0</th>\n",
              "      <td>18</td>\n",
              "      <td>24.0</td>\n",
              "    </tr>\n",
              "    <tr>\n",
              "      <th>1</th>\n",
              "      <td>15</td>\n",
              "      <td>27.0</td>\n",
              "    </tr>\n",
              "    <tr>\n",
              "      <th>2</th>\n",
              "      <td>18</td>\n",
              "      <td>27.0</td>\n",
              "    </tr>\n",
              "    <tr>\n",
              "      <th>3</th>\n",
              "      <td>16</td>\n",
              "      <td>25.0</td>\n",
              "    </tr>\n",
              "    <tr>\n",
              "      <th>4</th>\n",
              "      <td>17</td>\n",
              "      <td>31.0</td>\n",
              "    </tr>\n",
              "    <tr>\n",
              "      <th>...</th>\n",
              "      <td>...</td>\n",
              "      <td>...</td>\n",
              "    </tr>\n",
              "    <tr>\n",
              "      <th>244</th>\n",
              "      <td>27</td>\n",
              "      <td>NaN</td>\n",
              "    </tr>\n",
              "    <tr>\n",
              "      <th>245</th>\n",
              "      <td>27</td>\n",
              "      <td>NaN</td>\n",
              "    </tr>\n",
              "    <tr>\n",
              "      <th>246</th>\n",
              "      <td>32</td>\n",
              "      <td>NaN</td>\n",
              "    </tr>\n",
              "    <tr>\n",
              "      <th>247</th>\n",
              "      <td>28</td>\n",
              "      <td>NaN</td>\n",
              "    </tr>\n",
              "    <tr>\n",
              "      <th>248</th>\n",
              "      <td>31</td>\n",
              "      <td>NaN</td>\n",
              "    </tr>\n",
              "  </tbody>\n",
              "</table>\n",
              "<p>249 rows × 2 columns</p>\n",
              "</div>\n",
              "      <button class=\"colab-df-convert\" onclick=\"convertToInteractive('df-594b3cd3-16e7-411a-801f-8a2dc4a0759b')\"\n",
              "              title=\"Convert this dataframe to an interactive table.\"\n",
              "              style=\"display:none;\">\n",
              "        \n",
              "  <svg xmlns=\"http://www.w3.org/2000/svg\" height=\"24px\"viewBox=\"0 0 24 24\"\n",
              "       width=\"24px\">\n",
              "    <path d=\"M0 0h24v24H0V0z\" fill=\"none\"/>\n",
              "    <path d=\"M18.56 5.44l.94 2.06.94-2.06 2.06-.94-2.06-.94-.94-2.06-.94 2.06-2.06.94zm-11 1L8.5 8.5l.94-2.06 2.06-.94-2.06-.94L8.5 2.5l-.94 2.06-2.06.94zm10 10l.94 2.06.94-2.06 2.06-.94-2.06-.94-.94-2.06-.94 2.06-2.06.94z\"/><path d=\"M17.41 7.96l-1.37-1.37c-.4-.4-.92-.59-1.43-.59-.52 0-1.04.2-1.43.59L10.3 9.45l-7.72 7.72c-.78.78-.78 2.05 0 2.83L4 21.41c.39.39.9.59 1.41.59.51 0 1.02-.2 1.41-.59l7.78-7.78 2.81-2.81c.8-.78.8-2.07 0-2.86zM5.41 20L4 18.59l7.72-7.72 1.47 1.35L5.41 20z\"/>\n",
              "  </svg>\n",
              "      </button>\n",
              "      \n",
              "  <style>\n",
              "    .colab-df-container {\n",
              "      display:flex;\n",
              "      flex-wrap:wrap;\n",
              "      gap: 12px;\n",
              "    }\n",
              "\n",
              "    .colab-df-convert {\n",
              "      background-color: #E8F0FE;\n",
              "      border: none;\n",
              "      border-radius: 50%;\n",
              "      cursor: pointer;\n",
              "      display: none;\n",
              "      fill: #1967D2;\n",
              "      height: 32px;\n",
              "      padding: 0 0 0 0;\n",
              "      width: 32px;\n",
              "    }\n",
              "\n",
              "    .colab-df-convert:hover {\n",
              "      background-color: #E2EBFA;\n",
              "      box-shadow: 0px 1px 2px rgba(60, 64, 67, 0.3), 0px 1px 3px 1px rgba(60, 64, 67, 0.15);\n",
              "      fill: #174EA6;\n",
              "    }\n",
              "\n",
              "    [theme=dark] .colab-df-convert {\n",
              "      background-color: #3B4455;\n",
              "      fill: #D2E3FC;\n",
              "    }\n",
              "\n",
              "    [theme=dark] .colab-df-convert:hover {\n",
              "      background-color: #434B5C;\n",
              "      box-shadow: 0px 1px 3px 1px rgba(0, 0, 0, 0.15);\n",
              "      filter: drop-shadow(0px 1px 2px rgba(0, 0, 0, 0.3));\n",
              "      fill: #FFFFFF;\n",
              "    }\n",
              "  </style>\n",
              "\n",
              "      <script>\n",
              "        const buttonEl =\n",
              "          document.querySelector('#df-594b3cd3-16e7-411a-801f-8a2dc4a0759b button.colab-df-convert');\n",
              "        buttonEl.style.display =\n",
              "          google.colab.kernel.accessAllowed ? 'block' : 'none';\n",
              "\n",
              "        async function convertToInteractive(key) {\n",
              "          const element = document.querySelector('#df-594b3cd3-16e7-411a-801f-8a2dc4a0759b');\n",
              "          const dataTable =\n",
              "            await google.colab.kernel.invokeFunction('convertToInteractive',\n",
              "                                                     [key], {});\n",
              "          if (!dataTable) return;\n",
              "\n",
              "          const docLinkHtml = 'Like what you see? Visit the ' +\n",
              "            '<a target=\"_blank\" href=https://colab.research.google.com/notebooks/data_table.ipynb>data table notebook</a>'\n",
              "            + ' to learn more about interactive tables.';\n",
              "          element.innerHTML = '';\n",
              "          dataTable['output_type'] = 'display_data';\n",
              "          await google.colab.output.renderOutput(dataTable, element);\n",
              "          const docLink = document.createElement('div');\n",
              "          docLink.innerHTML = docLinkHtml;\n",
              "          element.appendChild(docLink);\n",
              "        }\n",
              "      </script>\n",
              "    </div>\n",
              "  </div>\n",
              "  "
            ],
            "text/plain": [
              "     Current fleet  New Fleet\n",
              "0               18       24.0\n",
              "1               15       27.0\n",
              "2               18       27.0\n",
              "3               16       25.0\n",
              "4               17       31.0\n",
              "..             ...        ...\n",
              "244             27        NaN\n",
              "245             27        NaN\n",
              "246             32        NaN\n",
              "247             28        NaN\n",
              "248             31        NaN\n",
              "\n",
              "[249 rows x 2 columns]"
            ]
          },
          "metadata": {},
          "execution_count": 10
        }
      ]
    },
    {
      "cell_type": "code",
      "source": [
        "# array for the current fleet\n",
        "data_cfleet = df.values.T[0]\n",
        "data_cfleet"
      ],
      "metadata": {
        "colab": {
          "base_uri": "https://localhost:8080/"
        },
        "id": "urtpitR0znJK",
        "outputId": "71f1e67c-67f0-4e11-b5c4-95556ab8e51e"
      },
      "execution_count": 11,
      "outputs": [
        {
          "output_type": "execute_result",
          "data": {
            "text/plain": [
              "array([18., 15., 18., 16., 17., 15., 14., 14., 14., 15., 15., 14., 15.,\n",
              "       14., 22., 18., 21., 21., 10., 10., 11.,  9., 28., 25., 19., 16.,\n",
              "       17., 19., 18., 14., 14., 14., 14., 12., 13., 13., 18., 22., 19.,\n",
              "       18., 23., 26., 25., 20., 21., 13., 14., 15., 14., 17., 11., 13.,\n",
              "       12., 13., 15., 13., 13., 14., 22., 28., 13., 14., 13., 14., 15.,\n",
              "       12., 13., 13., 14., 13., 12., 13., 18., 16., 18., 18., 23., 11.,\n",
              "       12., 13., 12., 18., 21., 19., 21., 15., 16., 15., 11., 20., 21.,\n",
              "       19., 15., 26., 25., 16., 16., 18., 16., 13., 14., 14., 14., 28.,\n",
              "       19., 18., 15., 15., 16., 15., 16., 14., 17., 16., 15., 18., 21.,\n",
              "       20., 13., 23., 20., 23., 18., 19., 25., 26., 18., 16., 16., 15.,\n",
              "       22., 22., 24., 23., 29., 25., 20., 18., 19., 18., 27., 13., 17.,\n",
              "       13., 13., 13., 30., 26., 18., 17., 16., 15., 18., 21., 19., 19.,\n",
              "       16., 16., 16., 16., 25., 26., 31., 34., 36., 20., 19., 20., 19.,\n",
              "       21., 20., 25., 21., 19., 21., 21., 19., 18., 19., 18., 18., 18.,\n",
              "       30., 31., 23., 24., 22., 20., 22., 20., 21., 17., 18., 17., 18.,\n",
              "       17., 16., 19., 19., 36., 27., 23., 24., 34., 35., 28., 29., 27.,\n",
              "       34., 32., 28., 26., 24., 19., 28., 24., 27., 27., 26., 24., 30.,\n",
              "       39., 35., 34., 30., 22., 27., 20., 18., 28., 27., 34., 31., 29.,\n",
              "       27., 24., 23., 38., 36., 25., 38., 26., 22., 36., 27., 27., 32.,\n",
              "       28., 31.])"
            ]
          },
          "metadata": {},
          "execution_count": 11
        }
      ]
    },
    {
      "cell_type": "code",
      "source": [
        "# array for the new fleet\n",
        "data_nfleet = df.values.T[1]\n",
        "data_nfleet = data_nfleet[~np.isnan(data_nfleet)]\n",
        "data_nfleet"
      ],
      "metadata": {
        "colab": {
          "base_uri": "https://localhost:8080/"
        },
        "id": "CH_JsWi60lEM",
        "outputId": "abfe1aeb-5e8c-4a49-8584-1e3c8198677b"
      },
      "execution_count": 12,
      "outputs": [
        {
          "output_type": "execute_result",
          "data": {
            "text/plain": [
              "array([24., 27., 27., 25., 31., 35., 24., 19., 28., 23., 27., 20., 22.,\n",
              "       18., 20., 31., 32., 31., 32., 24., 26., 29., 24., 24., 33., 33.,\n",
              "       32., 28., 19., 32., 34., 26., 30., 22., 22., 33., 39., 36., 28.,\n",
              "       27., 21., 24., 30., 34., 32., 38., 37., 30., 31., 37., 32., 47.,\n",
              "       41., 45., 34., 33., 24., 32., 39., 35., 32., 37., 38., 34., 34.,\n",
              "       32., 33., 32., 25., 24., 37., 31., 36., 36., 34., 38., 32., 38.,\n",
              "       32.])"
            ]
          },
          "metadata": {},
          "execution_count": 12
        }
      ]
    },
    {
      "cell_type": "markdown",
      "metadata": {
        "id": "B5d0tXDpIEj8"
      },
      "source": [
        "## Compare the two fleets\n",
        "\n",
        "The business analysts come up a comparison algorithm that requires the upper and lower bounds for the mean in order to say which fleet is better.\n",
        "1. Calculate the mean of both samples.\n",
        "2. Using the bootstrap function that you created:\n",
        "    - Construct the 95% CI of the mean of the current fleet.\n",
        "    - Construct the 95% CI of the mean of the new fleet.\n",
        "    - Are they comparable? (i.e., is one better than the other?) -- you can do this with a permutation test (check the lecture notes!)"
      ]
    },
    {
      "cell_type": "code",
      "metadata": {
        "id": "po4mp6zRHC0m",
        "colab": {
          "base_uri": "https://localhost:8080/",
          "height": 441
        },
        "outputId": "f5425dbf-0c5d-486c-d2fd-0ad4e9ee7eed"
      },
      "source": [
        "# current fleet ststistics\n",
        "boots = []\n",
        "for i in range(100, 50000, 1000):\n",
        "    boot = bootstrap_mean_ci(data_cfleet, data_cfleet.shape[0], i, 95)\n",
        "    boots.append([i, boot[0], \"mean\"])\n",
        "    boots.append([i, boot[1], \"lower\"])\n",
        "    boots.append([i, boot[2], \"upper\"])\n",
        "\n",
        "df_boot = pd.DataFrame(boots, columns=['Boostrap Iterations', 'Mean', \"Value\"])\n",
        "sns_plot = sns.lmplot(df_boot.columns[0], df_boot.columns[1], data=df_boot, fit_reg=False, hue=\"Value\")\n",
        "\n",
        "sns_plot.axes[0, 0].set_ylim(0,)\n",
        "sns_plot.axes[0, 0].set_xlim(0, 50000)"
      ],
      "execution_count": 15,
      "outputs": [
        {
          "output_type": "stream",
          "name": "stderr",
          "text": [
            "/usr/local/lib/python3.7/dist-packages/seaborn/_decorators.py:43: FutureWarning: Pass the following variables as keyword args: x, y. From version 0.12, the only valid positional argument will be `data`, and passing other arguments without an explicit keyword will result in an error or misinterpretation.\n",
            "  FutureWarning\n"
          ]
        },
        {
          "output_type": "execute_result",
          "data": {
            "text/plain": [
              "(0.0, 50000.0)"
            ]
          },
          "metadata": {},
          "execution_count": 15
        },
        {
          "output_type": "display_data",
          "data": {
            "image/png": "[encoded data removed]",
            "text/plain": [
              "<Figure size 425.125x360 with 1 Axes>"
            ]
          },
          "metadata": {
            "needs_background": "light"
          }
        }
      ]
    },
    {
      "cell_type": "markdown",
      "source": [
        "With 95% confidence, the mean for the **current fleet** is estimated to be between **19 and 21**."
      ],
      "metadata": {
        "id": "3QWrbl85ATfZ"
      }
    },
    {
      "cell_type": "code",
      "source": [
        "# new fleet ststistics\n",
        "boots = []\n",
        "for i in range(100, 50000, 1000):\n",
        "    boot = bootstrap_mean_ci(data_nfleet, data_nfleet.shape[0], i, 95)\n",
        "    boots.append([i, boot[0], \"mean\"])\n",
        "    boots.append([i, boot[1], \"lower\"])\n",
        "    boots.append([i, boot[2], \"upper\"])\n",
        "\n",
        "df_boot = pd.DataFrame(boots, columns=['Boostrap Iterations', 'Mean', \"Value\"])\n",
        "sns_plot = sns.lmplot(df_boot.columns[0], df_boot.columns[1], data=df_boot, fit_reg=False, hue=\"Value\")\n",
        "\n",
        "sns_plot.axes[0, 0].set_ylim(0,)\n",
        "sns_plot.axes[0, 0].set_xlim(0, 50000)"
      ],
      "metadata": {
        "colab": {
          "base_uri": "https://localhost:8080/",
          "height": 440
        },
        "id": "kZJlYOaF13ll",
        "outputId": "a4d13984-6157-4b64-8f7a-2119007fb3fa"
      },
      "execution_count": 16,
      "outputs": [
        {
          "output_type": "stream",
          "name": "stderr",
          "text": [
            "/usr/local/lib/python3.7/dist-packages/seaborn/_decorators.py:43: FutureWarning: Pass the following variables as keyword args: x, y. From version 0.12, the only valid positional argument will be `data`, and passing other arguments without an explicit keyword will result in an error or misinterpretation.\n",
            "  FutureWarning\n"
          ]
        },
        {
          "output_type": "execute_result",
          "data": {
            "text/plain": [
              "(0.0, 50000.0)"
            ]
          },
          "metadata": {},
          "execution_count": 16
        },
        {
          "output_type": "display_data",
          "data": {
            "image/png": "[encoded data removed]",
            "text/plain": [
              "<Figure size 425.125x360 with 1 Axes>"
            ]
          },
          "metadata": {
            "needs_background": "light"
          }
        }
      ]
    },
    {
      "cell_type": "markdown",
      "source": [
        "With 95% confidence, the mean for the **new fleet** is estimated to be between **29 and 31**."
      ],
      "metadata": {
        "id": "sQfndXLh_O9B"
      }
    },
    {
      "cell_type": "code",
      "metadata": {
        "id": "MkxvDZG4HC0n"
      },
      "source": [
        "# Create your own function for a permutation test here (you will need it for the lab quiz!):\n",
        "def permut_test(sample1, sample2, n_permutations):\n",
        "    \"\"\"\n",
        "    sample1: 1D array\n",
        "    sample2: 1D array (note that the size of the two arrays can be different)\n",
        "    n_permutations: number of permutations to calculate the p-value\n",
        "    \"\"\"\n",
        "    # calculating the observed test statistic\n",
        "    og_mean_old = np.mean(sample1)\n",
        "    og_mean_new = np.mean(sample2)\n",
        "    tobs = og_mean_new - og_mean_old\n",
        "\n",
        "    # initializing count variables for tperm > tobs\n",
        "    c_yes = 0\n",
        "    c_no = 0\n",
        "\n",
        "    # merging data into a new array\n",
        "    concat = np.concatenate((sample1, sample2))\n",
        "\n",
        "    # perform N permutations\n",
        "    for i in range(n_permutations):\n",
        "      \n",
        "      # random permutation\n",
        "      perm = np.random.permutation(concat)\n",
        "\n",
        "      # splitting the dataset\n",
        "      n_old = sample1.shape\n",
        "      n_old = n_old[0]\n",
        "      pold = perm[:n_old]\n",
        "      pnew  = perm[n_old:]\n",
        "\n",
        "      # new test statistic\n",
        "      mean_old = np.mean(pold)\n",
        "      mean_new = np.mean(pnew)\n",
        "      tperm = mean_new - mean_old\n",
        "      \n",
        "      # count number of times tperm > tobs\n",
        "      if tperm > tobs: c_yes += 1\n",
        "      else: c_no += 1\n",
        "\n",
        "    total_perm = c_yes + c_no\n",
        "    pvalue = c_yes / total_perm\n",
        "\n",
        "    return pvalue"
      ],
      "execution_count": 24,
      "outputs": []
    },
    {
      "cell_type": "code",
      "source": [
        "p = permut_test(data_cfleet, data_nfleet, 30000)\n",
        "print(p)"
      ],
      "metadata": {
        "colab": {
          "base_uri": "https://localhost:8080/"
        },
        "id": "XLNUACog3Zt-",
        "outputId": "cfcc2b8d-a2ca-42c1-bbe4-c78ce5568745"
      },
      "execution_count": 26,
      "outputs": [
        {
          "output_type": "stream",
          "name": "stdout",
          "text": [
            "0.0\n"
          ]
        }
      ]
    },
    {
      "cell_type": "markdown",
      "source": [
        "Based on our fleet samples, we found **statistically significant differences** at a 5% significance level in the average scores of the current and new fleet, with the **new fleet achieving larger averages** (p = 0.0)."
      ],
      "metadata": {
        "id": "c3SKagHP_ePQ"
      }
    },
    {
      "cell_type": "markdown",
      "source": [
        "#QUIZ 2"
      ],
      "metadata": {
        "id": "WImuGNX55h6x"
      }
    },
    {
      "cell_type": "code",
      "source": [
        "# Question 2\n",
        "# The 95% confidence interval for the mean of the customers dataset using 10000 iterations is\n",
        "\n",
        "q2 = bootstrap_mean_ci(data, data.shape[0], 10000, 95)\n",
        "print(q2)"
      ],
      "metadata": {
        "colab": {
          "base_uri": "https://localhost:8080/"
        },
        "id": "pfvs8XCX5k-4",
        "outputId": "78b461ad-b7ad-4ccf-f414-5e489d4ef25c"
      },
      "execution_count": 36,
      "outputs": [
        {
          "output_type": "stream",
          "name": "stdout",
          "text": [
            "(9.201242857142857, 6.5, 12.357142857142858)\n"
          ]
        }
      ]
    },
    {
      "cell_type": "code",
      "source": [
        "# Question 3\n",
        "# The 85% confidence interval for the mean of the old fleet in the vehicles dataset using 10000 iterations is\n",
        "\n",
        "q3 = bootstrap_mean_ci(data_cfleet, data_cfleet.shape[0], 10000, 85)\n",
        "print(q3)"
      ],
      "metadata": {
        "colab": {
          "base_uri": "https://localhost:8080/"
        },
        "id": "XaU_SYnu5_45",
        "outputId": "6111a285-6aa1-4239-9cc6-791bc8a098d2"
      },
      "execution_count": 37,
      "outputs": [
        {
          "output_type": "stream",
          "name": "stdout",
          "text": [
            "(20.140139759036146, 19.55823293172691, 20.718875502008032)\n"
          ]
        }
      ]
    },
    {
      "cell_type": "code",
      "source": [
        "def bootstrap_std_ci(sample, sample_size, n_bootstraps, ci):\n",
        "\tboot_array = np.random.choice(sample, size=(n_bootstraps, sample_size), replace=True) # array of random samples with replacement from data\n",
        "\tdata_std = np.std(boot_array) # std of all of the bootstraps\n",
        "\tboot_stds = [] # list for the std of each bootstrap\n",
        "\tfor row in range(boot_array.shape[0]):\n",
        "\t\tboot_std = np.std(boot_array[row,:]) # std for each bootstrap (row)\n",
        "\t\tboot_stds.append(boot_std)\n",
        "\tupper = np.percentile(boot_stds, 100-((100-ci)/2))\n",
        "\tlower = np.percentile(boot_stds, (100-ci)/2)\n",
        "\treturn data_std, lower, upper"
      ],
      "metadata": {
        "id": "UTE4Aile6Lk9"
      },
      "execution_count": 38,
      "outputs": []
    },
    {
      "cell_type": "code",
      "source": [
        "# Question 4\n",
        "# The 95% confidence interval for the standard deviation of the old fleet in the vehicles dataset using 10000 iterations is\n",
        "\n",
        "q4 = bootstrap_std_ci(data_cfleet, data_cfleet.shape[0], 10000, 95)\n",
        "print(q4)"
      ],
      "metadata": {
        "colab": {
          "base_uri": "https://localhost:8080/"
        },
        "id": "cpq7AmZ26nWi",
        "outputId": "526dde5a-7b17-4e75-8f13-8a124c17afa0"
      },
      "execution_count": 39,
      "outputs": [
        {
          "output_type": "stream",
          "name": "stdout",
          "text": [
            "(6.402076122166587, 5.814465681465624, 6.938404005077795)\n"
          ]
        }
      ]
    },
    {
      "cell_type": "code",
      "source": [
        "# Question 5\n",
        "# The 73% confidence interval for the standard deviation of the old fleet in the vehicles dataset using 10000 iterations is\n",
        "\n",
        "q5 = bootstrap_std_ci(data_cfleet, data_cfleet.shape[0], 10000, 73)\n",
        "print(q5)"
      ],
      "metadata": {
        "colab": {
          "base_uri": "https://localhost:8080/"
        },
        "id": "a-yPptGZ63OM",
        "outputId": "b247e18b-df2c-497c-eec3-208bad6b425a"
      },
      "execution_count": 40,
      "outputs": [
        {
          "output_type": "stream",
          "name": "stdout",
          "text": [
            "(6.402942745929764, 6.0633747595921035, 6.703075111316953)\n"
          ]
        }
      ]
    },
    {
      "cell_type": "markdown",
      "source": [
        "#### Question 8 - Voting data"
      ],
      "metadata": {
        "id": "6AKhkNoY7_XQ"
      }
    },
    {
      "cell_type": "code",
      "source": [
        "# The variables below represent the percentages of democratic votes in Pennsylvania and Ohio (one value for each state).\n",
        "dem_share_PA = [60.08, 40.64, 36.07, 41.21, 31.04, 43.78, 44.08, 46.85, 44.71, 46.15, 63.10, 52.20, 43.18, 40.24, 39.92, 47.87, 37.77, 40.11, 49.85, 48.61, 38.62, 54.25, 34.84, 47.75, 43.82, 55.97, 58.23, 42.97, 42.38, 36.11, 37.53, 42.65, 50.96, 47.43, 56.24, 45.60, 46.39, 35.22, 48.56, 32.97, 57.88, 36.05, 37.72, 50.36, 32.12, 41.55, 54.66, 57.81, 54.58, 32.88, 54.37, 40.45, 47.61, 60.49, 43.11, 27.32, 44.03, 33.56, 37.26, 54.64, 43.12, 25.34, 49.79, 83.56, 40.09, 60.81, 49.81]\n",
        "dem_share_OH = [56.94, 50.46, 65.99, 45.88, 42.23, 45.26, 57.01, 53.61, 59.10, 61.48, 43.43, 44.69, 54.59, 48.36, 45.89, 48.62, 43.92, 38.23, 28.79, 63.57, 38.07, 40.18, 43.05, 41.56, 42.49, 36.06, 52.76, 46.07, 39.43, 39.26, 47.47, 27.92, 38.01, 45.45, 29.07, 28.94, 51.28, 50.10, 39.84, 36.43, 35.71, 31.47, 47.01, 40.10, 48.76, 31.56, 39.86, 45.31, 35.47, 51.38, 46.33, 48.73, 41.77, 41.32, 48.46, 53.14, 34.01, 54.74, 40.67, 38.96, 46.29, 38.25, 6.80, 31.75, 46.33, 44.90, 33.57, 38.10, 39.67, 40.47, 49.44, 37.62, 36.71, 46.73, 42.20, 53.16, 52.40, 58.36, 68.02, 38.53, 34.58, 69.64, 60.50, 53.53, 36.54, 49.58, 41.97, 38.11]\n",
        "\n",
        "print('No. PA:', len(dem_share_PA))\n",
        "print('No. OH:', len(dem_share_OH))"
      ],
      "metadata": {
        "colab": {
          "base_uri": "https://localhost:8080/"
        },
        "id": "DRByhM6u7GcM",
        "outputId": "4d94df59-2b34-4e18-a7be-68e02da3f64d"
      },
      "execution_count": 32,
      "outputs": [
        {
          "output_type": "stream",
          "name": "stdout",
          "text": [
            "No. PA: 67\n",
            "No. OH: 88\n"
          ]
        }
      ]
    },
    {
      "cell_type": "code",
      "source": [
        "dataPA = np.array(dem_share_PA)\n",
        "dataPA"
      ],
      "metadata": {
        "colab": {
          "base_uri": "https://localhost:8080/"
        },
        "id": "3u_tDx_x8H2k",
        "outputId": "f44c43c4-3841-42e1-df97-c9cd65610147"
      },
      "execution_count": 29,
      "outputs": [
        {
          "output_type": "execute_result",
          "data": {
            "text/plain": [
              "array([60.08, 40.64, 36.07, 41.21, 31.04, 43.78, 44.08, 46.85, 44.71,\n",
              "       46.15, 63.1 , 52.2 , 43.18, 40.24, 39.92, 47.87, 37.77, 40.11,\n",
              "       49.85, 48.61, 38.62, 54.25, 34.84, 47.75, 43.82, 55.97, 58.23,\n",
              "       42.97, 42.38, 36.11, 37.53, 42.65, 50.96, 47.43, 56.24, 45.6 ,\n",
              "       46.39, 35.22, 48.56, 32.97, 57.88, 36.05, 37.72, 50.36, 32.12,\n",
              "       41.55, 54.66, 57.81, 54.58, 32.88, 54.37, 40.45, 47.61, 60.49,\n",
              "       43.11, 27.32, 44.03, 33.56, 37.26, 54.64, 43.12, 25.34, 49.79,\n",
              "       83.56, 40.09, 60.81, 49.81])"
            ]
          },
          "metadata": {},
          "execution_count": 29
        }
      ]
    },
    {
      "cell_type": "code",
      "source": [
        "dataOH = np.array(dem_share_OH)\n",
        "dataOH"
      ],
      "metadata": {
        "colab": {
          "base_uri": "https://localhost:8080/"
        },
        "id": "2-8seurU8Kre",
        "outputId": "b528613b-9224-4ffc-fe02-36118c4ccaf2"
      },
      "execution_count": 30,
      "outputs": [
        {
          "output_type": "execute_result",
          "data": {
            "text/plain": [
              "array([56.94, 50.46, 65.99, 45.88, 42.23, 45.26, 57.01, 53.61, 59.1 ,\n",
              "       61.48, 43.43, 44.69, 54.59, 48.36, 45.89, 48.62, 43.92, 38.23,\n",
              "       28.79, 63.57, 38.07, 40.18, 43.05, 41.56, 42.49, 36.06, 52.76,\n",
              "       46.07, 39.43, 39.26, 47.47, 27.92, 38.01, 45.45, 29.07, 28.94,\n",
              "       51.28, 50.1 , 39.84, 36.43, 35.71, 31.47, 47.01, 40.1 , 48.76,\n",
              "       31.56, 39.86, 45.31, 35.47, 51.38, 46.33, 48.73, 41.77, 41.32,\n",
              "       48.46, 53.14, 34.01, 54.74, 40.67, 38.96, 46.29, 38.25,  6.8 ,\n",
              "       31.75, 46.33, 44.9 , 33.57, 38.1 , 39.67, 40.47, 49.44, 37.62,\n",
              "       36.71, 46.73, 42.2 , 53.16, 52.4 , 58.36, 68.02, 38.53, 34.58,\n",
              "       69.64, 60.5 , 53.53, 36.54, 49.58, 41.97, 38.11])"
            ]
          },
          "metadata": {},
          "execution_count": 30
        }
      ]
    },
    {
      "cell_type": "code",
      "source": [
        "# The 95% confidence intervals for the means of the votes using 20000 bootstraps are\n",
        "\n",
        "q8PA = bootstrap_mean_ci(dataPA, dataPA.shape[0], 20000, 95)\n",
        "print('PA:', q8PA)\n",
        "q8OH = bootstrap_mean_ci(dataOH, dataOH.shape[0], 20000, 95)\n",
        "print('OH:', q8OH)"
      ],
      "metadata": {
        "colab": {
          "base_uri": "https://localhost:8080/"
        },
        "id": "LroCQe-78QLb",
        "outputId": "cf4998f6-1559-4e85-e95b-9bfc5fe6dcc0"
      },
      "execution_count": 41,
      "outputs": [
        {
          "output_type": "stream",
          "name": "stdout",
          "text": [
            "PA: (45.486530805970176, 43.23789925373135, 47.8350895522388)\n",
            "OH: (44.31546381249998, 42.28453409090909, 46.35132102272727)\n"
          ]
        }
      ]
    },
    {
      "cell_type": "code",
      "source": [
        "# The p-value from a permutation test with 10000 permutations is\n",
        "\n",
        "p8 = permut_test(dataOH, dataPA, 10000) # PA goes second because we want to see if its voting mean is larger than OH's (it's our 'new' dataset - sample 2 in permut_test())\n",
        "print(p8)"
      ],
      "metadata": {
        "colab": {
          "base_uri": "https://localhost:8080/"
        },
        "id": "p5nk2Ws09OKM",
        "outputId": "b39afde9-ef09-4945-fb75-4cf4c6f4b0d7"
      },
      "execution_count": 42,
      "outputs": [
        {
          "output_type": "stream",
          "name": "stdout",
          "text": [
            "0.2342\n"
          ]
        }
      ]
    },
    {
      "cell_type": "code",
      "source": [
        ""
      ],
      "metadata": {
        "id": "4EHpqQJFBkia"
      },
      "execution_count": null,
      "outputs": []
    }
  ]
}