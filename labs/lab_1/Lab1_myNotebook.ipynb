{
  "cells": [
    {
      "cell_type": "markdown",
      "metadata": {
        "id": "view-in-github",
        "colab_type": "text"
      },
      "source": [
        "<a href=\"https://colab.research.google.com/github/JAntonioRosales/CE888-Data-Science/blob/main/labs/lab_1/Lab1_myNotebook.ipynb\" target=\"_parent\"><img src=\"https://colab.research.google.com/assets/colab-badge.svg\" alt=\"Open In Colab\"/></a>"
      ]
    },
    {
      "cell_type": "markdown",
      "source": [
        "### Question 1"
      ],
      "metadata": {
        "id": "mkq1_3dK4kp7"
      }
    },
    {
      "cell_type": "markdown",
      "source": [
        "Write a function list_to_array that receives a list as a function and returns the list converted into a numpy array."
      ],
      "metadata": {
        "id": "KqLWOF2Q4pl-"
      }
    },
    {
      "cell_type": "code",
      "source": [
        "import numpy as np\n",
        "\n",
        "def list_to_array(myList):\n",
        "    array = np.asarray(myList)\n",
        "    return array"
      ],
      "metadata": {
        "id": "6w9sip7l4tIX"
      },
      "execution_count": null,
      "outputs": []
    },
    {
      "cell_type": "code",
      "source": [
        "print(list_to_array([1, 2, 3, 4, 5]))"
      ],
      "metadata": {
        "colab": {
          "base_uri": "https://localhost:8080/"
        },
        "id": "wJNthk0A4uU-",
        "outputId": "26bb302a-6a2a-4108-f321-a8b2e380a79e"
      },
      "execution_count": null,
      "outputs": [
        {
          "output_type": "stream",
          "name": "stdout",
          "text": [
            "[1 2 3 4 5]\n"
          ]
        }
      ]
    },
    {
      "cell_type": "markdown",
      "source": [
        "### Question 2"
      ],
      "metadata": {
        "id": "xWVKW_QG4ypO"
      }
    },
    {
      "cell_type": "markdown",
      "source": [
        "Using numpy, write a function called 'min', which takes an array or list of numbers as input and returns the minimum value found in them."
      ],
      "metadata": {
        "id": "DASerBM9CD5T"
      }
    },
    {
      "cell_type": "code",
      "source": [
        "import numpy as np\n",
        "\n",
        "def min(numbers):\n",
        "    minVal = np.amin(numbers)\n",
        "    return minVal"
      ],
      "metadata": {
        "id": "iSIA_MRjCFpm"
      },
      "execution_count": null,
      "outputs": []
    },
    {
      "cell_type": "code",
      "source": [
        "mark2 = [55,88,78,90,79,94, 3210]\n",
        "print('%d' % min(mark2))"
      ],
      "metadata": {
        "colab": {
          "base_uri": "https://localhost:8080/"
        },
        "id": "fABO8KvsCIF2",
        "outputId": "a6cdc500-0e24-43c4-9e1c-b85ca88c9632"
      },
      "execution_count": null,
      "outputs": [
        {
          "output_type": "stream",
          "name": "stdout",
          "text": [
            "55\n"
          ]
        }
      ]
    },
    {
      "cell_type": "markdown",
      "source": [
        "### Question 3"
      ],
      "metadata": {
        "id": "wY-_6GlsCMdr"
      }
    },
    {
      "cell_type": "markdown",
      "source": [
        "Using numpy, write a function called 'percentile', which takes as input an array or list of numbers and a number between 0-1 (the percentile that the user wants to calculate) and returns the percentile."
      ],
      "metadata": {
        "id": "NvmcnsvWCRO6"
      }
    },
    {
      "cell_type": "code",
      "source": [
        "import numpy as np\n",
        "\n",
        "def percentile(numbers, perc):\n",
        "    p = np.percentile(numbers, perc*100)\n",
        "    return p"
      ],
      "metadata": {
        "id": "a6Uffvt7CKt0"
      },
      "execution_count": null,
      "outputs": []
    },
    {
      "cell_type": "code",
      "source": [
        "mark2 = [55, 88, 78, 90, 79, 94, 3210]\n",
        "print('%.2f' % percentile(mark2, 0.4))"
      ],
      "metadata": {
        "colab": {
          "base_uri": "https://localhost:8080/"
        },
        "id": "HJqGs9d4CVAU",
        "outputId": "ae41bb85-0767-4c46-c8dc-f276bc462bc9"
      },
      "execution_count": null,
      "outputs": [
        {
          "output_type": "stream",
          "name": "stdout",
          "text": [
            "82.60\n"
          ]
        }
      ]
    },
    {
      "cell_type": "markdown",
      "source": [
        "### Question 4"
      ],
      "metadata": {
        "id": "THUP7zDNCa4a"
      }
    },
    {
      "cell_type": "code",
      "source": [
        "import numpy as np\n",
        "\n",
        "def sorting_inv(numbers):\n",
        "    sorted = np.sort(numbers)[::-1]\n",
        "    return sorted"
      ],
      "metadata": {
        "id": "TXB2nvPjCcbV"
      },
      "execution_count": null,
      "outputs": []
    },
    {
      "cell_type": "code",
      "source": [
        "mark2 = [55, 88, 78, 90, 79, 94, 3210]\n",
        "print('%d' % sorting_inv(mark2)[0])"
      ],
      "metadata": {
        "colab": {
          "base_uri": "https://localhost:8080/"
        },
        "id": "b8uL6h2OCexA",
        "outputId": "3f1e692a-0bad-4628-8557-a0391b64731f"
      },
      "execution_count": null,
      "outputs": [
        {
          "output_type": "stream",
          "name": "stdout",
          "text": [
            "3210\n"
          ]
        }
      ]
    },
    {
      "cell_type": "markdown",
      "source": [
        "### Question 5"
      ],
      "metadata": {
        "id": "awbfWpBqze5a"
      }
    },
    {
      "cell_type": "markdown",
      "source": [
        "Using numpy, write a function called 'percentile_array_columns', which takes as input a 2D array of numbers and a percentile (number between 0-100) and returns the column-wise percentiles of the array."
      ],
      "metadata": {
        "id": "hlKQ5-YiCkVK"
      }
    },
    {
      "cell_type": "code",
      "source": [
        "import numpy as np\n",
        "\n",
        "def percentile_array_columns(myArray, perc):\n",
        "    perList = []\n",
        "    shape = myArray.shape\n",
        "    for i in range(shape[1]):\n",
        "        col = myArray[:,i]\n",
        "        p = np.percentile(col, perc)\n",
        "        perList.append(p)\n",
        "    return perList"
      ],
      "metadata": {
        "id": "cC3lKLIGxGT3"
      },
      "execution_count": null,
      "outputs": []
    },
    {
      "cell_type": "code",
      "source": [
        "mark2 = np.asarray([55, 88, 78, 90, 79, 94]).reshape(2, -1)\n",
        "per = percentile_array_columns(mark2, 60)\n",
        "print('%.2f, %.2f' % (per[0], per[1]))"
      ],
      "metadata": {
        "colab": {
          "base_uri": "https://localhost:8080/"
        },
        "id": "OrXRNhwPx3Ck",
        "outputId": "9c450040-ee80-44ee-8d87-658dc548dd4f"
      },
      "execution_count": null,
      "outputs": [
        {
          "output_type": "stream",
          "name": "stdout",
          "text": [
            "76.00, 84.40\n"
          ]
        }
      ]
    },
    {
      "cell_type": "markdown",
      "source": [
        "Some tinkering..."
      ],
      "metadata": {
        "id": "RMZgrmERCvq-"
      }
    },
    {
      "cell_type": "code",
      "source": [
        "import numpy as np\n",
        "\n",
        "mark1 = np.asarray([55, 88, 78, 90, 79, 94]).reshape(1, -1)\n",
        "mark1"
      ],
      "metadata": {
        "colab": {
          "base_uri": "https://localhost:8080/"
        },
        "id": "OBOQTwAhtQ-7",
        "outputId": "f8b4b41e-d321-48ae-e8ee-21f9cc5a4ff7"
      },
      "execution_count": null,
      "outputs": [
        {
          "output_type": "execute_result",
          "data": {
            "text/plain": [
              "array([[55, 88, 78, 90, 79, 94]])"
            ]
          },
          "metadata": {},
          "execution_count": 9
        }
      ]
    },
    {
      "cell_type": "code",
      "source": [
        "mark2 = np.asarray([55, 88, 78, 90, 79, 94]).reshape(2, -1)\n",
        "mark2"
      ],
      "metadata": {
        "colab": {
          "base_uri": "https://localhost:8080/"
        },
        "id": "LWgUcS1xtg6q",
        "outputId": "4daa884d-a48c-44f1-e0f1-5dcaa4279bd0"
      },
      "execution_count": null,
      "outputs": [
        {
          "output_type": "execute_result",
          "data": {
            "text/plain": [
              "array([[55, 88, 78],\n",
              "       [90, 79, 94]])"
            ]
          },
          "metadata": {},
          "execution_count": 7
        }
      ]
    },
    {
      "cell_type": "code",
      "source": [
        "mark3 = np.asarray([55, 88, 78, 90, 79, 94]).reshape(3, -1)\n",
        "mark3"
      ],
      "metadata": {
        "colab": {
          "base_uri": "https://localhost:8080/"
        },
        "id": "HvKXOQEfuCEl",
        "outputId": "594e9a4d-9306-4285-efac-65bc2e22c4f7"
      },
      "execution_count": null,
      "outputs": [
        {
          "output_type": "execute_result",
          "data": {
            "text/plain": [
              "array([[55, 88],\n",
              "       [78, 90],\n",
              "       [79, 94]])"
            ]
          },
          "metadata": {},
          "execution_count": 8
        }
      ]
    },
    {
      "cell_type": "code",
      "source": [
        "shape=mark2.shape"
      ],
      "metadata": {
        "id": "8WX7qZoOuMAG"
      },
      "execution_count": null,
      "outputs": []
    },
    {
      "cell_type": "code",
      "source": [
        "for i in range(shape[1]):\n",
        "  col = mark2[:,i]\n",
        "  print(col)"
      ],
      "metadata": {
        "colab": {
          "base_uri": "https://localhost:8080/"
        },
        "id": "lvq5Cp8wuD79",
        "outputId": "2d17b8a9-437b-4594-ac6a-d43fab0d5d7f"
      },
      "execution_count": null,
      "outputs": [
        {
          "output_type": "stream",
          "name": "stdout",
          "text": [
            "[55 90]\n",
            "[88 79]\n",
            "[78 94]\n"
          ]
        }
      ]
    },
    {
      "cell_type": "code",
      "source": [
        "for row in mark2:\n",
        "  print(row)"
      ],
      "metadata": {
        "colab": {
          "base_uri": "https://localhost:8080/"
        },
        "id": "DCyHFWPlvtH8",
        "outputId": "df23813b-861b-47ca-b3cf-b756a7289a62"
      },
      "execution_count": null,
      "outputs": [
        {
          "output_type": "stream",
          "name": "stdout",
          "text": [
            "[55 88 78]\n",
            "[90 79 94]\n"
          ]
        }
      ]
    },
    {
      "cell_type": "markdown",
      "source": [
        "### Question 6"
      ],
      "metadata": {
        "id": "cqWiN3tuzYlq"
      }
    },
    {
      "cell_type": "markdown",
      "source": [
        "Using numpy, write a function called 'mean_of_array_columns', which takes as input a 2D array of numbers and returns the column-wise averages of the array."
      ],
      "metadata": {
        "id": "QJDVUwVyC942"
      }
    },
    {
      "cell_type": "code",
      "source": [
        "import numpy as np\n",
        "\n",
        "def mean_of_array_columns(numbers):\n",
        "    mean = np.mean(numbers, axis=0)\n",
        "    return mean"
      ],
      "metadata": {
        "id": "2igIShQLDCQU"
      },
      "execution_count": null,
      "outputs": []
    },
    {
      "cell_type": "code",
      "source": [
        "mark2 = np.asarray([55, 88, 78, 90, 79, 94]).reshape(2, -1)\n",
        "print('%d' % mean_of_array_columns(mark2).shape[0])"
      ],
      "metadata": {
        "colab": {
          "base_uri": "https://localhost:8080/"
        },
        "id": "AyJ15hSmDC-_",
        "outputId": "11c6c122-1219-40f7-d779-ac1426d693e6"
      },
      "execution_count": null,
      "outputs": [
        {
          "output_type": "stream",
          "name": "stdout",
          "text": [
            "3\n"
          ]
        }
      ]
    },
    {
      "cell_type": "markdown",
      "source": [
        "Some tinkering..."
      ],
      "metadata": {
        "id": "44JNFClUDDpf"
      }
    },
    {
      "cell_type": "code",
      "source": [
        "mark2 = np.asarray([55, 88, 78, 90, 79, 94]).reshape(2, -1)\n",
        "shape = mark2.shape\n",
        "mark2"
      ],
      "metadata": {
        "colab": {
          "base_uri": "https://localhost:8080/"
        },
        "id": "yR4bXntL_H0E",
        "outputId": "268cc57a-5152-4d63-ca21-aba6616c717c"
      },
      "execution_count": null,
      "outputs": [
        {
          "output_type": "execute_result",
          "data": {
            "text/plain": [
              "array([[55, 88, 78],\n",
              "       [90, 79, 94]])"
            ]
          },
          "metadata": {},
          "execution_count": 49
        }
      ]
    },
    {
      "cell_type": "code",
      "source": [
        "import numpy as np\n",
        "\n",
        "def mean_of_array_columns(numbers):\n",
        "    shape = mark2.shape\n",
        "    "
      ],
      "metadata": {
        "id": "6kjjKbqbz3i0"
      },
      "execution_count": null,
      "outputs": []
    },
    {
      "cell_type": "code",
      "source": [
        "mark2 = np.asarray([55, 88, 78, 90, 79, 94]).reshape(2, -1)\n",
        "print('%d' % mean_of_array_columns(mark2).shape[0])"
      ],
      "metadata": {
        "id": "XXhHfE_Px44-"
      },
      "execution_count": null,
      "outputs": []
    },
    {
      "cell_type": "markdown",
      "source": [
        "### Question 7"
      ],
      "metadata": {
        "id": "EgpIN7bC1w0M"
      }
    },
    {
      "cell_type": "markdown",
      "source": [
        "We're going to use numpy to generate random numbers. Check the documentation for numpy.random.choice() to complete the functions below.\n",
        "\n",
        "NOTE: it's important that you pass the parameters to np.random.choice in order. For example, if the instructions say 'return A with probability A1 and B with probability B1', you should pass the arguments to np.random.choice as np.random.choice([A, B], p=[A1, B1]) to be marked correctly."
      ],
      "metadata": {
        "id": "6mCWg5d9DL_V"
      }
    },
    {
      "cell_type": "code",
      "source": [
        "import numpy as np\n",
        "\n",
        "# Define our actions\n",
        "\n",
        "def action_0():\n",
        "    ''' This should return 1 with probability 50%, and 0 with probability 50%'''\n",
        "    rand = np.random.choice([1, 0], p=[0.5, 0.5])\n",
        "    return rand\n",
        "\n",
        "def action_1():\n",
        "    ''' This should return 1 with probability 60%, and 0 with probability 40%'''\n",
        "    rand = np.random.choice([1, 0], p=[0.6, 0.4])\n",
        "    return rand\n",
        "\n",
        "def action_2():\n",
        "    ''' This should return 1 with probability 20%, and 0 with probability 80%'''\n",
        "    rand = np.random.choice([1, 0], p=[0.2, 0.8])\n",
        "    return rand"
      ],
      "metadata": {
        "id": "SGEOPKbp1x3k"
      },
      "execution_count": null,
      "outputs": []
    },
    {
      "cell_type": "code",
      "source": [
        "np.random.seed(4)\n",
        "print('%d, %d, %d, %d, %d, %d' % (action_0(), action_1(), action_2(), action_0(), action_1(), action_2()))"
      ],
      "metadata": {
        "colab": {
          "base_uri": "https://localhost:8080/"
        },
        "id": "8B9d7r9M3lRz",
        "outputId": "ba6cb8a9-fb85-43a5-f570-55807b06ae5b"
      },
      "execution_count": null,
      "outputs": [
        {
          "output_type": "stream",
          "name": "stdout",
          "text": [
            "0, 1, 0, 0, 0, 0\n"
          ]
        }
      ]
    },
    {
      "cell_type": "markdown",
      "source": [
        "### Question 8"
      ],
      "metadata": {
        "id": "u_OOPpms388N"
      }
    },
    {
      "cell_type": "markdown",
      "source": [
        "We're going to use numpy to generate random numbers. Check the documentation for numpy.random.choice() to complete the functions below.\n",
        "\n",
        "NOTE: it's important that you pass the parameters to np.random.choice in order. For example, if the instructions say 'return A with probability A1 and B with probability B1', you should pass the arguments to np.random.choice as np.random.choice([A, B], p=[A1, B1]) to be marked correctly."
      ],
      "metadata": {
        "id": "RyTjRHQ0DQI9"
      }
    },
    {
      "cell_type": "code",
      "source": [
        "import numpy as np\n",
        "\n",
        "# Define our actions\n",
        "\n",
        "def policy():\n",
        "    ''' This should return 0, 1, or 2 with equal probabilities '''\n",
        "    rand = np.random.choice([0, 1, 2], p=[1/3, 1/3, 1/3])\n",
        "    return rand"
      ],
      "metadata": {
        "id": "K0xxEBof3-t9"
      },
      "execution_count": null,
      "outputs": []
    },
    {
      "cell_type": "code",
      "source": [
        "np.random.seed(4)\n",
        "print('%d, %d, %d, %d, %d, %d' % (policy(), policy(), policy(), policy(), policy(), policy()))"
      ],
      "metadata": {
        "colab": {
          "base_uri": "https://localhost:8080/"
        },
        "id": "iCgUkt_B4RWb",
        "outputId": "892402b6-a117-4320-84b5-ffb4ec7e4f98"
      },
      "execution_count": null,
      "outputs": [
        {
          "output_type": "stream",
          "name": "stdout",
          "text": [
            "2, 1, 2, 2, 2, 0\n"
          ]
        }
      ]
    },
    {
      "cell_type": "markdown",
      "source": [
        "### Question 9"
      ],
      "metadata": {
        "id": "15FvehgJ4eXK"
      }
    },
    {
      "cell_type": "markdown",
      "source": [
        "We're going to use numpy to generate random numbers. Check the documentation for numpy.random.choice() to complete the functions below.\n",
        "\n",
        "NOTE: it's important that you pass the parameters to np.random.choice in order. For example, if the instructions say 'return A with probability A1 and B with probability B1', you should pass the arguments to np.random.choice as np.random.choice([A, B], p=[A1, B1]) to be marked correctly."
      ],
      "metadata": {
        "id": "PgNWabjtDRZV"
      }
    },
    {
      "cell_type": "code",
      "source": [
        "import numpy as np\n",
        "\n",
        "\n",
        "def policy(p1, p2, p3, p4=0.5):\n",
        "    # p1, p2, p3 are, respectively, the probabilities of choosing between 1, 2, and 3\n",
        "    # the default value for p4 should be 0.5\n",
        "    # action equals 1 with probability p1, 2 with probability p2, and 3 with probability p3\n",
        "    action = np.random.choice([1, 2, 3], p=[p1, p2, p3])\n",
        "    # Depending on the value of 'action', we choose one of the following options:\n",
        "    # if action is 1: return action1()\n",
        "    # if action is 2: return action2()\n",
        "    # if action is 3: return action1() with probability p4, and action2() otherwise\n",
        "\n",
        "    if action == 1: return action1()\n",
        "    if action == 2: return action2()\n",
        "    if action == 3:\n",
        "      val = np.random.choice([action1(), action2()], p=[p4, 1-p4])\n",
        "      return val\n",
        "\n",
        "def action1(p=0.2):\n",
        "    # Return 0 with probability p and 1 otherwise\n",
        "    # the default value for p should be 0.2\n",
        "    val = np.random.choice([0, 1], p=[p, 1-p])\n",
        "    return val\n",
        "\n",
        "def action2(p=0.9):\n",
        "    # Return 3 with probability p and -5 otherwise\n",
        "    # the default value for p should be 0.9\n",
        "    val = np.random.choice([3, -5], p=[p, 1-p])\n",
        "    return val"
      ],
      "metadata": {
        "id": "7jCCC2gK4Txz"
      },
      "execution_count": null,
      "outputs": []
    },
    {
      "cell_type": "code",
      "source": [
        "np.random.seed(4)\n",
        "# Check default value for p1\n",
        "pulls = [action1() for _ in range(20000)]\n",
        "print('%.3f' % np.mean(pulls))"
      ],
      "metadata": {
        "colab": {
          "base_uri": "https://localhost:8080/"
        },
        "id": "xToCRmb35A1I",
        "outputId": "d68f8bea-843d-4542-f4da-e5b1f2fb5bd5"
      },
      "execution_count": null,
      "outputs": [
        {
          "output_type": "stream",
          "name": "stdout",
          "text": [
            "0.794\n"
          ]
        }
      ]
    },
    {
      "cell_type": "markdown",
      "source": [
        "The array *a* for random.choice **doesn't have to be a number**!"
      ],
      "metadata": {
        "id": "qQYijIic-sLf"
      }
    },
    {
      "cell_type": "code",
      "source": [
        "val = np.random.choice(['hello', 'world'], p=[0.5, 0.5])\n",
        "print(val)"
      ],
      "metadata": {
        "colab": {
          "base_uri": "https://localhost:8080/"
        },
        "id": "Y-8cBbAL9I3z",
        "outputId": "58f2d2c7-ee77-440c-ed67-f6c20ffffa40"
      },
      "execution_count": null,
      "outputs": [
        {
          "output_type": "stream",
          "name": "stdout",
          "text": [
            "hello\n"
          ]
        }
      ]
    }
  ],
  "metadata": {
    "kernelspec": {
      "display_name": "Python 3 (ipykernel)",
      "language": "python",
      "name": "python3"
    },
    "language_info": {
      "codemirror_mode": {
        "name": "ipython",
        "version": 3
      },
      "file_extension": ".py",
      "mimetype": "text/x-python",
      "name": "python",
      "nbconvert_exporter": "python",
      "pygments_lexer": "ipython3",
      "version": "3.9.6"
    },
    "colab": {
      "name": "Lab1_myNotebook.ipynb",
      "provenance": [],
      "collapsed_sections": [],
      "include_colab_link": true
    }
  },
  "nbformat": 4,
  "nbformat_minor": 0
}